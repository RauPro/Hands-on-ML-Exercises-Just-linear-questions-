{
 "cells": [
  {
   "cell_type": "markdown",
   "source": [
    "Exercise: train an SVM regressor on the California housing dataset."
   ],
   "metadata": {
    "collapsed": false,
    "pycharm": {
     "name": "#%% md\n"
    }
   }
  },
  {
   "cell_type": "code",
   "execution_count": null,
   "outputs": [],
   "source": [
    "from sklearn import datasets\n",
    "import matplotlib.pyplot as plt\n",
    "import numpy as np\n",
    "import pandas as pd\n",
    "from sklearn.metrics import accuracy_score\n",
    "from sklearn.model_selection import train_test_split\n",
    "from sklearn.datasets import fetch_california_housing\n",
    "import matplotlib as mpl\n",
    "from sklearn.svm import LinearSVC\n",
    "from sklearn.svm import SVC\n",
    "from sklearn.svm import LinearSVR\n",
    "from sklearn.linear_model import SGDClassifier\n",
    "from sklearn.preprocessing import StandardScaler"
   ],
   "metadata": {
    "collapsed": false,
    "pycharm": {
     "name": "#%%\n"
    }
   }
  },
  {
   "cell_type": "code",
   "execution_count": 60,
   "outputs": [],
   "source": [
    "housing = fetch_california_housing(as_frame = True);"
   ],
   "metadata": {
    "collapsed": false,
    "pycharm": {
     "name": "#%%\n"
    }
   }
  },
  {
   "cell_type": "code",
   "execution_count": 61,
   "outputs": [
    {
     "data": {
      "text/plain": "['MedInc',\n 'HouseAge',\n 'AveRooms',\n 'AveBedrms',\n 'Population',\n 'AveOccup',\n 'Latitude',\n 'Longitude']"
     },
     "execution_count": 61,
     "metadata": {},
     "output_type": "execute_result"
    }
   ],
   "source": [
    "housing.feature_names"
   ],
   "metadata": {
    "collapsed": false,
    "pycharm": {
     "name": "#%%\n"
    }
   }
  },
  {
   "cell_type": "code",
   "execution_count": 62,
   "outputs": [],
   "source": [
    "x = housing.data"
   ],
   "metadata": {
    "collapsed": false,
    "pycharm": {
     "name": "#%%\n"
    }
   }
  },
  {
   "cell_type": "code",
   "execution_count": 63,
   "outputs": [],
   "source": [
    "y = housing.target"
   ],
   "metadata": {
    "collapsed": false,
    "pycharm": {
     "name": "#%%\n"
    }
   }
  },
  {
   "cell_type": "markdown",
   "source": [
    "Split Train and Test Set"
   ],
   "metadata": {
    "collapsed": false,
    "pycharm": {
     "name": "#%% md\n"
    }
   }
  },
  {
   "cell_type": "code",
   "execution_count": 64,
   "outputs": [],
   "source": [
    "x_train, x_test, y_train, y_test = train_test_split(x, y, test_size= 0.2, random_state=42)"
   ],
   "metadata": {
    "collapsed": false,
    "pycharm": {
     "name": "#%%\n"
    }
   }
  },
  {
   "cell_type": "markdown",
   "source": [
    "IMPORTANT!\n",
    "Scale the data"
   ],
   "metadata": {
    "collapsed": false,
    "pycharm": {
     "name": "#%% md\n"
    }
   }
  },
  {
   "cell_type": "code",
   "execution_count": 65,
   "outputs": [],
   "source": [
    "scaler = StandardScaler()\n",
    "x_train_scale = scaler.fit_transform(x_train)\n",
    "x_test_scale = scaler.transform(x_test)"
   ],
   "metadata": {
    "collapsed": false,
    "pycharm": {
     "name": "#%%\n"
    }
   }
  },
  {
   "cell_type": "code",
   "execution_count": 66,
   "outputs": [
    {
     "name": "stderr",
     "output_type": "stream",
     "text": [
      "C:\\Users\\kira2\\anaconda3\\lib\\site-packages\\sklearn\\svm\\_base.py:985: ConvergenceWarning: Liblinear failed to converge, increase the number of iterations.\n",
      "  warnings.warn(\"Liblinear failed to converge, increase \"\n"
     ]
    },
    {
     "data": {
      "text/plain": "LinearSVR(random_state=42)"
     },
     "execution_count": 66,
     "metadata": {},
     "output_type": "execute_result"
    }
   ],
   "source": [
    "model = LinearSVR(random_state=42)\n",
    "model.fit(x_train_scale, y_train)"
   ],
   "metadata": {
    "collapsed": false,
    "pycharm": {
     "name": "#%%\n"
    }
   }
  },
  {
   "cell_type": "code",
   "execution_count": 67,
   "outputs": [
    {
     "data": {
      "text/plain": "0.9641780189950231"
     },
     "execution_count": 67,
     "metadata": {},
     "output_type": "execute_result"
    }
   ],
   "source": [
    "from sklearn.metrics import mean_squared_error\n",
    "\n",
    "y_pred = model.predict(x_train_scale)\n",
    "mse = mean_squared_error(y_train, y_pred)\n",
    "mse"
   ],
   "metadata": {
    "collapsed": false,
    "pycharm": {
     "name": "#%%\n"
    }
   }
  },
  {
   "cell_type": "markdown",
   "source": [
    "Remember that this RMSE is based on the data after being scaled"
   ],
   "metadata": {
    "collapsed": false,
    "pycharm": {
     "name": "#%% md\n"
    }
   }
  },
  {
   "cell_type": "code",
   "execution_count": 68,
   "outputs": [
    {
     "data": {
      "text/plain": "0.9819256687728574"
     },
     "execution_count": 68,
     "metadata": {},
     "output_type": "execute_result"
    }
   ],
   "source": [
    "np.sqrt(mse)\n"
   ],
   "metadata": {
    "collapsed": false,
    "pycharm": {
     "name": "#%%\n"
    }
   }
  },
  {
   "cell_type": "markdown",
   "source": [
    "Random Search to find the best hyperparameter values of C and Gamma"
   ],
   "metadata": {
    "collapsed": false,
    "pycharm": {
     "name": "#%% md\n"
    }
   }
  },
  {
   "cell_type": "code",
   "execution_count": 69,
   "outputs": [
    {
     "name": "stdout",
     "output_type": "stream",
     "text": [
      "Fitting 3 folds for each of 10 candidates, totalling 30 fits\n",
      "[CV] END .....C=4.745401188473625, gamma=0.07969454818643928; total time=  10.8s\n",
      "[CV] END .....C=4.745401188473625, gamma=0.07969454818643928; total time=  10.3s\n",
      "[CV] END .....C=4.745401188473625, gamma=0.07969454818643928; total time=  10.0s\n",
      "[CV] END .....C=8.31993941811405, gamma=0.015751320499779724; total time=  10.3s\n",
      "[CV] END .....C=8.31993941811405, gamma=0.015751320499779724; total time=   9.9s\n",
      "[CV] END .....C=8.31993941811405, gamma=0.015751320499779724; total time=  10.1s\n",
      "[CV] END ....C=2.560186404424365, gamma=0.002051110418843397; total time=   9.9s\n",
      "[CV] END ....C=2.560186404424365, gamma=0.002051110418843397; total time=   9.8s\n",
      "[CV] END ....C=2.560186404424365, gamma=0.002051110418843397; total time=   9.7s\n",
      "[CV] END ....C=1.5808361216819946, gamma=0.05399484409787431; total time=   9.7s\n",
      "[CV] END ....C=1.5808361216819946, gamma=0.05399484409787431; total time=  10.0s\n",
      "[CV] END ....C=1.5808361216819946, gamma=0.05399484409787431; total time=  10.2s\n",
      "[CV] END ....C=7.011150117432088, gamma=0.026070247583707663; total time=   9.9s\n",
      "[CV] END ....C=7.011150117432088, gamma=0.026070247583707663; total time=   9.8s\n",
      "[CV] END ....C=7.011150117432088, gamma=0.026070247583707663; total time=  10.1s\n",
      "[CV] END .....C=1.2058449429580245, gamma=0.0870602087830485; total time=   9.3s\n",
      "[CV] END .....C=1.2058449429580245, gamma=0.0870602087830485; total time=   9.3s\n",
      "[CV] END .....C=1.2058449429580245, gamma=0.0870602087830485; total time=   9.4s\n",
      "[CV] END ...C=9.324426408004218, gamma=0.0026587543983272693; total time=   9.7s\n",
      "[CV] END ...C=9.324426408004218, gamma=0.0026587543983272693; total time=   9.7s\n",
      "[CV] END ...C=9.324426408004218, gamma=0.0026587543983272693; total time=   9.4s\n",
      "[CV] END ...C=2.818249672071006, gamma=0.0023270677083837795; total time=   9.3s\n",
      "[CV] END ...C=2.818249672071006, gamma=0.0023270677083837795; total time=   9.6s\n",
      "[CV] END ...C=2.818249672071006, gamma=0.0023270677083837795; total time=   9.6s\n",
      "[CV] END ....C=4.042422429595377, gamma=0.011207606211860567; total time=   9.6s\n",
      "[CV] END ....C=4.042422429595377, gamma=0.011207606211860567; total time=   9.4s\n",
      "[CV] END ....C=4.042422429595377, gamma=0.011207606211860567; total time=   9.6s\n",
      "[CV] END ....C=5.319450186421157, gamma=0.003823475224675185; total time=   9.5s\n",
      "[CV] END ....C=5.319450186421157, gamma=0.003823475224675185; total time=   9.6s\n",
      "[CV] END ....C=5.319450186421157, gamma=0.003823475224675185; total time=   9.8s\n"
     ]
    },
    {
     "data": {
      "text/plain": "RandomizedSearchCV(cv=3, estimator=SVR(),\n                   param_distributions={'C': <scipy.stats._distn_infrastructure.rv_frozen object at 0x00000235B25903A0>,\n                                        'gamma': <scipy.stats._distn_infrastructure.rv_frozen object at 0x00000235A3AD6C40>},\n                   random_state=42, verbose=2)"
     },
     "execution_count": 69,
     "metadata": {},
     "output_type": "execute_result"
    }
   ],
   "source": [
    "from sklearn.svm import SVR\n",
    "from sklearn.model_selection import RandomizedSearchCV\n",
    "from scipy.stats import reciprocal, uniform\n",
    "\n",
    "param_distributions = {\"gamma\": reciprocal(0.001, 0.1), \"C\": uniform(1, 10)}\n",
    "rnd_search_cv = RandomizedSearchCV(SVR(), param_distributions, n_iter=10, verbose=2, cv=3, random_state=42)\n",
    "rnd_search_cv.fit(x_train_scale, y_train)"
   ],
   "metadata": {
    "collapsed": false,
    "pycharm": {
     "name": "#%%\n"
    }
   }
  },
  {
   "cell_type": "markdown",
   "source": [
    "Getting the best values"
   ],
   "metadata": {
    "collapsed": false,
    "pycharm": {
     "name": "#%% md\n"
    }
   }
  },
  {
   "cell_type": "code",
   "execution_count": 70,
   "outputs": [
    {
     "data": {
      "text/plain": "SVR(C=4.745401188473625, gamma=0.07969454818643928)"
     },
     "execution_count": 70,
     "metadata": {},
     "output_type": "execute_result"
    }
   ],
   "source": [
    "rnd_search_cv.best_estimator_"
   ],
   "metadata": {
    "collapsed": false,
    "pycharm": {
     "name": "#%%\n"
    }
   }
  },
  {
   "cell_type": "code",
   "execution_count": 71,
   "outputs": [
    {
     "data": {
      "text/plain": "0.572758599828496"
     },
     "execution_count": 71,
     "metadata": {},
     "output_type": "execute_result"
    }
   ],
   "source": [
    "predict = rnd_search_cv.best_estimator_.predict(x_train_scale)\n",
    "mse = mean_squared_error(y_train, predict)\n",
    "np.sqrt(mse)"
   ],
   "metadata": {
    "collapsed": false,
    "pycharm": {
     "name": "#%%\n"
    }
   }
  },
  {
   "cell_type": "code",
   "execution_count": 72,
   "outputs": [
    {
     "data": {
      "text/plain": "0.5929263484626331"
     },
     "execution_count": 72,
     "metadata": {},
     "output_type": "execute_result"
    }
   ],
   "source": [
    "test_predict = rnd_search_cv.best_estimator_.predict(x_test_scale)\n",
    "mse = mean_squared_error(y_test, test_predict)\n",
    "np.sqrt(mse)"
   ],
   "metadata": {
    "collapsed": false,
    "pycharm": {
     "name": "#%%\n"
    }
   }
  }
 ],
 "metadata": {
  "kernelspec": {
   "display_name": "Python 3",
   "language": "python",
   "name": "python3"
  },
  "language_info": {
   "codemirror_mode": {
    "name": "ipython",
    "version": 2
   },
   "file_extension": ".py",
   "mimetype": "text/x-python",
   "name": "python",
   "nbconvert_exporter": "python",
   "pygments_lexer": "ipython2",
   "version": "2.7.6"
  }
 },
 "nbformat": 4,
 "nbformat_minor": 0
}